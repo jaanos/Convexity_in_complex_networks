{
 "cells": [
  {
   "cell_type": "code",
   "execution_count": 1,
   "metadata": {
    "collapsed": false
   },
   "outputs": [
   ],
   "source": [
    "import random\n",
    "def sosedi_ki_se_niso_v_S(sez1,sez2):\n",
    "    return [u for u in sez1 if u not in sez2]"
   ]
  },
  {
   "cell_type": "code",
   "execution_count": 4,
   "metadata": {
    "collapsed": false
   },
   "outputs": [
   ],
   "source": [
    "def convextion_of_convex_subsets_brez_izpisovanja(graf):\n",
    "    S = set()\n",
    "    S.add(graf.random_vertex())\n",
    "    Seznam_grafov=[]\n",
    "    Graf_convexity_lastnosti =graf.convexity_properties()\n",
    "    while len(S) < graf.order():\n",
    "        kandidati=[]\n",
    "        for i in S:\n",
    "            kandidati += graf[i]\n",
    "        kandidati = sosedi_ki_se_niso_v_S(kandidati,S)\n",
    "        S = set(Graf_convexity_lastnosti.hull(list(S)+[random.choice(kandidati)]))\n",
    "        Seznam_grafov.append(graf.subgraph(S))\n",
    "    return Seznam_grafov"
   ]
  },
  {
   "cell_type": "code",
   "execution_count": 3,
   "metadata": {
    "collapsed": false
   },
   "outputs": [
   ],
   "source": [
    "import networkx as nx\n",
    "import math\n",
    "G_m3 = nx.read_edgelist(\"out.opsahl-powergrid\", comments='%', create_using=nx.Graph(), nodetype=int)\n",
    "G_m_sage3 = Graph(G_m3)"
   ]
  },
  {
   "cell_type": "code",
   "execution_count": 4,
   "metadata": {
    "collapsed": false
   },
   "outputs": [
   ],
   "source": [
    "convextion_of_convex_subsets_brez_izpisovanja(G_m_sage3)"
   ]
  },
  {
   "cell_type": "code",
   "execution_count": 2,
   "metadata": {
    "collapsed": false
   },
   "outputs": [
   ],
   "source": [
    "import networkx as nx\n",
    "import math\n",
    "G_m4 = nx.read_edgelist(\"out.ego-facebook\", comments='%', create_using=nx.Graph(), nodetype=int)\n",
    "G_m_sage4 = Graph(G_m4)"
   ]
  },
  {
   "cell_type": "code",
   "execution_count": 5,
   "metadata": {
    "collapsed": false
   },
   "outputs": [
   ],
   "source": [
    "convextion_of_convex_subsets_brez_izpisovanja(G_m_sage4)"
   ]
  },
  {
   "cell_type": "code",
   "execution_count": 0,
   "metadata": {
    "collapsed": false
   },
   "outputs": [
   ],
   "source": [
   ]
  }
 ],
 "metadata": {
  "kernelspec": {
   "display_name": "SageMath (stable)",
   "language": "sagemath",
   "metadata": {
    "cocalc": {
     "description": "Open-source mathematical software system",
     "priority": 10,
     "url": "https://www.sagemath.org/"
    }
   },
   "name": "sagemath"
  },
  "language_info": {
   "codemirror_mode": {
    "name": "ipython",
    "version": 2
   },
   "file_extension": ".py",
   "mimetype": "text/x-python",
   "name": "python",
   "nbconvert_exporter": "python",
   "pygments_lexer": "ipython2",
   "version": "2.7.15"
  }
 },
 "nbformat": 4,
 "nbformat_minor": 0
}
