{
 "cells": [
  {
   "cell_type": "code",
   "execution_count": 0,
   "metadata": {
    "collapsed": false
   },
   "outputs": [
   ],
   "source": [
   ]
  },
  {
   "cell_type": "code",
   "execution_count": 4,
   "metadata": {
    "collapsed": false
   },
   "outputs": [
   ],
   "source": [
    "import random\n",
    "def sosedi_ki_se_niso_v_S(sez1,sez2):\n",
    "    return [u for u in sez1 if u not in sez2]   #tu zdej vrne seznam\n",
    "\n",
    "def convextion_of_convex_subsets(graf):   #\n",
    "    S = set()                     #prazna množica vozlišč\n",
    "    S.add(graf.random_vertex())            #dodamo rendom vozlisce iz grafa\n",
    "    Seznam_grafov=[]               #prazn seznam grafou k ga postopoma pounemo in ga bomo nakoc returnal\n",
    "    Graf_convexity_lastnosti =graf.convexity_properties()         #metoda za funkcije dodana\n",
    "    while len(S) < graf.order():            #doklr velikost množice S manjša od števila vsh vozlišč v grafu, torej doklr niso vsa vozlišča v S\n",
    "        kandidati=[]             #torej kandidati za dodat v S\n",
    "        for i in S:                 #so odvisni od tega kaj je že v S\n",
    "            kandidati += graf[i]   #grafi so očitnu tku napisani da za vsazga pove s kom je povezan, tle bi znou bit problem pri vnosu grafa kr definicija slovarja\n",
    "                                 #torej use mozne sosede vn vrze od vsh vozlisc v S\n",
    "        kandidati = sosedi_ki_se_niso_v_S(kandidati,S)   #tle pol vrne vse kandidate k se niso v S, kr se ponovijo je pol določen bul verjeten kar je kul\n",
    "        print S\n",
    "        S = set(Graf_convexity_lastnosti.hull(list(S)+[random.choice(kandidati)]))    #konveksna ovojnica od S v seznam obliki in enga random kandidata v obliki,                                                                                  #vse skupej pol doda S v obliki množice, torej vednu vecja konveksna ovojnica bo S\n",
    "        Seznam_grafov.append(graf.subgraph(S))       #aha .subgraph(S) je očitnu funkcija k oblikuje podgraf z množico vozlišč na originalnm grafu, in waw očitnu je lahku seznam dnam dejanskih grafou\n",
    "    return Seznam_grafov"
   ]
  },
  {
   "cell_type": "code",
   "execution_count": 7,
   "metadata": {
    "collapsed": false
   },
   "outputs": [
   ],
   "source": [
    "import networkx as nx\n",
    "import math\n",
    "G_m = nx.read_edgelist(\"out.arenas-jazz\", comments='%', create_using=nx.Graph(), nodetype=int) #če mamo podan seznam povezav drgač read_adjlist\n",
    "G_m_sage = Graph(G_m) #Zgornji graf smo pretvorili v Sage-ov graf"
   ]
  },
  {
   "cell_type": "code",
   "execution_count": 8,
   "metadata": {
    "collapsed": false
   },
   "outputs": [
    {
     "data": {
      "text/plain": [
       "138832860488917349301149698307/224848493984502540192226586400"
      ]
     },
     "execution_count": 8,
     "metadata": {
     },
     "output_type": "execute_result"
    }
   ],
   "source": [
    "#jazz ma 52% clustering koeficient\n",
    "G_m_sage.clustering_average()"
   ]
  },
  {
   "cell_type": "code",
   "execution_count": 0,
   "metadata": {
    "collapsed": false
   },
   "outputs": [
   ],
   "source": [
    "convextion_of_convex_subsets(G_m_sage)  #zadnji graf bo ceu graf\n",
    "#G_m_sage.plot().show()    #pazi hah ce je vodorauna povezava"
   ]
  },
  {
   "cell_type": "code",
   "execution_count": 2,
   "metadata": {
    "collapsed": false
   },
   "outputs": [
    {
     "data": {
      "text/plain": [
       "[3, 4, 4]"
      ]
     },
     "execution_count": 2,
     "metadata": {
     },
     "output_type": "execute_result"
    }
   ],
   "source": [
    "A = (3,4,4)\n",
    "list(A)"
   ]
  },
  {
   "cell_type": "code",
   "execution_count": 2,
   "metadata": {
    "collapsed": false
   },
   "outputs": [
    {
     "data": {
      "text/plain": [
       "{0, 1, 2, 3, 4, 5, 6, 7, 8, 9}"
      ]
     },
     "execution_count": 2,
     "metadata": {
     },
     "output_type": "execute_result"
    }
   ],
   "source": [
    "d = {0: [1,4,5], 1: [2,6], 2: [3,7], 3: [4,8], 4: [9], 5: [7, 8], 6: [8,9], 7: [9]}\n",
    "g = Graph(d)            #torej je kul ce uporabmo algoritm na takm slovarju če prej dodamo Graph(d)\n",
    "D = [1,3,5, 7]\n",
    "\n",
    "m = g.convexity_properties()\n",
    "set(m.hull(D))\n",
    "#a, g.plot().show()"
   ]
  },
  {
   "cell_type": "code",
   "execution_count": 3,
   "metadata": {
    "collapsed": false
   },
   "outputs": [
    {
     "ename": "AttributeError",
     "evalue": "'Graph' object has no attribute 'transitivity'",
     "output_type": "error",
     "traceback": [
      "\u001b[0;31m---------------------------------------------------------------------------\u001b[0m",
      "\u001b[0;31mAttributeError\u001b[0m                            Traceback (most recent call last)",
      "\u001b[0;32m<ipython-input-3-7290783ea3e2>\u001b[0m in \u001b[0;36m<module>\u001b[0;34m()\u001b[0m\n\u001b[0;32m----> 1\u001b[0;31m \u001b[0mg\u001b[0m\u001b[0;34m.\u001b[0m\u001b[0mtransitivity\u001b[0m\u001b[0;34m(\u001b[0m\u001b[0;34m)\u001b[0m\u001b[0;34m\u001b[0m\u001b[0m\n\u001b[0m",
      "\u001b[0;31mAttributeError\u001b[0m: 'Graph' object has no attribute 'transitivity'"
     ]
    }
   ],
   "source": [
   ]
  },
  {
   "cell_type": "code",
   "execution_count": 3,
   "metadata": {
    "collapsed": false
   },
   "outputs": [
    {
     "data": {
      "text/plain": [
       "0"
      ]
     },
     "execution_count": 3,
     "metadata": {
     },
     "output_type": "execute_result"
    }
   ],
   "source": [
    "g.clustering_average()"
   ]
  },
  {
   "cell_type": "code",
   "execution_count": 0,
   "metadata": {
    "collapsed": false
   },
   "outputs": [
   ],
   "source": [
   ]
  }
 ],
 "metadata": {
  "kernelspec": {
   "display_name": "SageMath (stable)",
   "language": "sagemath",
   "metadata": {
    "cocalc": {
     "description": "Open-source mathematical software system",
     "priority": 10,
     "url": "https://www.sagemath.org/"
    }
   },
   "name": "sagemath"
  },
  "language_info": {
   "codemirror_mode": {
    "name": "ipython",
    "version": 2
   },
   "file_extension": ".py",
   "mimetype": "text/x-python",
   "name": "python",
   "nbconvert_exporter": "python",
   "pygments_lexer": "ipython2",
   "version": "2.7.15"
  }
 },
 "nbformat": 4,
 "nbformat_minor": 0
}